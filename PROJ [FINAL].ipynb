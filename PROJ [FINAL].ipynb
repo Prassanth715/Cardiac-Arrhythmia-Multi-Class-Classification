{
 "cells": [
  {
   "cell_type": "markdown",
   "id": "603facba",
   "metadata": {},
   "source": [
    "# Cardiac Arrhythmia Multi-Class Classification\n"
   ]
  },
  {
   "cell_type": "markdown",
   "id": "5435938d",
   "metadata": {},
   "source": [
    "### Libraries and Basic Infos of Dataset "
   ]
  },
  {
   "cell_type": "code",
   "execution_count": 2,
   "id": "1f3919b3",
   "metadata": {},
   "outputs": [],
   "source": [
    "%matplotlib notebook\n",
    "%matplotlib inline\n",
    "import numpy as np\n",
    "import pandas as pd\n",
    "import seaborn as sn\n",
    "import scipy.optimize as opt\n",
    "import matplotlib.pyplot as plt\n",
    "from sklearn.metrics import classification_report\n",
    "from sklearn.metrics import confusion_matrix\n",
    "from sklearn.metrics import accuracy_score\n",
    "from sklearn.model_selection import cross_val_score\n",
    "from sklearn.model_selection import train_test_split\n",
    "from sklearn.ensemble import RandomForestClassifier as rfc\n",
    "from sklearn.ensemble import VotingClassifier, BaggingClassifier\n",
    "from sklearn.linear_model import LogisticRegression\n",
    "from sklearn.svm import LinearSVC, SVC\n",
    "from sklearn.model_selection import GridSearchCV\n",
    "from sklearn.neighbors import KNeighborsClassifier\n",
    "from sklearn.tree import DecisionTreeClassifier as dtc\n",
    "from sklearn.decomposition import PCA"
   ]
  },
  {
   "cell_type": "code",
   "execution_count": 3,
   "id": "6f6e0a93",
   "metadata": {},
   "outputs": [],
   "source": [
    "data = pd.read_csv('arrhythmia_csv.csv')"
   ]
  },
  {
   "cell_type": "code",
   "execution_count": 4,
   "id": "98d07f84",
   "metadata": {},
   "outputs": [
    {
     "name": "stdout",
     "output_type": "stream",
     "text": [
      "<class 'pandas.core.frame.DataFrame'>\n",
      "RangeIndex: 452 entries, 0 to 451\n",
      "Columns: 280 entries, age to class\n",
      "dtypes: float64(125), int64(155)\n",
      "memory usage: 988.9 KB\n"
     ]
    }
   ],
   "source": [
    "data.info()"
   ]
  },
  {
   "cell_type": "code",
   "execution_count": 5,
   "id": "3da55c5d",
   "metadata": {},
   "outputs": [
    {
     "data": {
      "text/html": [
       "<div>\n",
       "<style scoped>\n",
       "    .dataframe tbody tr th:only-of-type {\n",
       "        vertical-align: middle;\n",
       "    }\n",
       "\n",
       "    .dataframe tbody tr th {\n",
       "        vertical-align: top;\n",
       "    }\n",
       "\n",
       "    .dataframe thead th {\n",
       "        text-align: right;\n",
       "    }\n",
       "</style>\n",
       "<table border=\"1\" class=\"dataframe\">\n",
       "  <thead>\n",
       "    <tr style=\"text-align: right;\">\n",
       "      <th></th>\n",
       "      <th>age</th>\n",
       "      <th>sex</th>\n",
       "      <th>height</th>\n",
       "      <th>weight</th>\n",
       "      <th>QRSduration</th>\n",
       "      <th>PRinterval</th>\n",
       "      <th>Q-Tinterval</th>\n",
       "      <th>Tinterval</th>\n",
       "      <th>Pinterval</th>\n",
       "      <th>QRS</th>\n",
       "      <th>...</th>\n",
       "      <th>chV6_QwaveAmp</th>\n",
       "      <th>chV6_RwaveAmp</th>\n",
       "      <th>chV6_SwaveAmp</th>\n",
       "      <th>chV6_RPwaveAmp</th>\n",
       "      <th>chV6_SPwaveAmp</th>\n",
       "      <th>chV6_PwaveAmp</th>\n",
       "      <th>chV6_TwaveAmp</th>\n",
       "      <th>chV6_QRSA</th>\n",
       "      <th>chV6_QRSTA</th>\n",
       "      <th>class</th>\n",
       "    </tr>\n",
       "  </thead>\n",
       "  <tbody>\n",
       "    <tr>\n",
       "      <th>0</th>\n",
       "      <td>75</td>\n",
       "      <td>0</td>\n",
       "      <td>190</td>\n",
       "      <td>80</td>\n",
       "      <td>91</td>\n",
       "      <td>193</td>\n",
       "      <td>371</td>\n",
       "      <td>174</td>\n",
       "      <td>121</td>\n",
       "      <td>-16</td>\n",
       "      <td>...</td>\n",
       "      <td>0.0</td>\n",
       "      <td>9.0</td>\n",
       "      <td>-0.9</td>\n",
       "      <td>0.0</td>\n",
       "      <td>0.0</td>\n",
       "      <td>0.9</td>\n",
       "      <td>2.9</td>\n",
       "      <td>23.3</td>\n",
       "      <td>49.4</td>\n",
       "      <td>8</td>\n",
       "    </tr>\n",
       "    <tr>\n",
       "      <th>1</th>\n",
       "      <td>56</td>\n",
       "      <td>1</td>\n",
       "      <td>165</td>\n",
       "      <td>64</td>\n",
       "      <td>81</td>\n",
       "      <td>174</td>\n",
       "      <td>401</td>\n",
       "      <td>149</td>\n",
       "      <td>39</td>\n",
       "      <td>25</td>\n",
       "      <td>...</td>\n",
       "      <td>0.0</td>\n",
       "      <td>8.5</td>\n",
       "      <td>0.0</td>\n",
       "      <td>0.0</td>\n",
       "      <td>0.0</td>\n",
       "      <td>0.2</td>\n",
       "      <td>2.1</td>\n",
       "      <td>20.4</td>\n",
       "      <td>38.8</td>\n",
       "      <td>6</td>\n",
       "    </tr>\n",
       "    <tr>\n",
       "      <th>2</th>\n",
       "      <td>54</td>\n",
       "      <td>0</td>\n",
       "      <td>172</td>\n",
       "      <td>95</td>\n",
       "      <td>138</td>\n",
       "      <td>163</td>\n",
       "      <td>386</td>\n",
       "      <td>185</td>\n",
       "      <td>102</td>\n",
       "      <td>96</td>\n",
       "      <td>...</td>\n",
       "      <td>0.0</td>\n",
       "      <td>9.5</td>\n",
       "      <td>-2.4</td>\n",
       "      <td>0.0</td>\n",
       "      <td>0.0</td>\n",
       "      <td>0.3</td>\n",
       "      <td>3.4</td>\n",
       "      <td>12.3</td>\n",
       "      <td>49.0</td>\n",
       "      <td>10</td>\n",
       "    </tr>\n",
       "    <tr>\n",
       "      <th>3</th>\n",
       "      <td>55</td>\n",
       "      <td>0</td>\n",
       "      <td>175</td>\n",
       "      <td>94</td>\n",
       "      <td>100</td>\n",
       "      <td>202</td>\n",
       "      <td>380</td>\n",
       "      <td>179</td>\n",
       "      <td>143</td>\n",
       "      <td>28</td>\n",
       "      <td>...</td>\n",
       "      <td>0.0</td>\n",
       "      <td>12.2</td>\n",
       "      <td>-2.2</td>\n",
       "      <td>0.0</td>\n",
       "      <td>0.0</td>\n",
       "      <td>0.4</td>\n",
       "      <td>2.6</td>\n",
       "      <td>34.6</td>\n",
       "      <td>61.6</td>\n",
       "      <td>1</td>\n",
       "    </tr>\n",
       "    <tr>\n",
       "      <th>4</th>\n",
       "      <td>75</td>\n",
       "      <td>0</td>\n",
       "      <td>190</td>\n",
       "      <td>80</td>\n",
       "      <td>88</td>\n",
       "      <td>181</td>\n",
       "      <td>360</td>\n",
       "      <td>177</td>\n",
       "      <td>103</td>\n",
       "      <td>-16</td>\n",
       "      <td>...</td>\n",
       "      <td>0.0</td>\n",
       "      <td>13.1</td>\n",
       "      <td>-3.6</td>\n",
       "      <td>0.0</td>\n",
       "      <td>0.0</td>\n",
       "      <td>-0.1</td>\n",
       "      <td>3.9</td>\n",
       "      <td>25.4</td>\n",
       "      <td>62.8</td>\n",
       "      <td>7</td>\n",
       "    </tr>\n",
       "  </tbody>\n",
       "</table>\n",
       "<p>5 rows × 280 columns</p>\n",
       "</div>"
      ],
      "text/plain": [
       "   age  sex  height  weight  QRSduration  PRinterval  Q-Tinterval  Tinterval  \\\n",
       "0   75    0     190      80           91         193          371        174   \n",
       "1   56    1     165      64           81         174          401        149   \n",
       "2   54    0     172      95          138         163          386        185   \n",
       "3   55    0     175      94          100         202          380        179   \n",
       "4   75    0     190      80           88         181          360        177   \n",
       "\n",
       "   Pinterval  QRS  ...  chV6_QwaveAmp  chV6_RwaveAmp  chV6_SwaveAmp  \\\n",
       "0        121  -16  ...            0.0            9.0           -0.9   \n",
       "1         39   25  ...            0.0            8.5            0.0   \n",
       "2        102   96  ...            0.0            9.5           -2.4   \n",
       "3        143   28  ...            0.0           12.2           -2.2   \n",
       "4        103  -16  ...            0.0           13.1           -3.6   \n",
       "\n",
       "   chV6_RPwaveAmp  chV6_SPwaveAmp  chV6_PwaveAmp  chV6_TwaveAmp  chV6_QRSA  \\\n",
       "0             0.0             0.0            0.9            2.9       23.3   \n",
       "1             0.0             0.0            0.2            2.1       20.4   \n",
       "2             0.0             0.0            0.3            3.4       12.3   \n",
       "3             0.0             0.0            0.4            2.6       34.6   \n",
       "4             0.0             0.0           -0.1            3.9       25.4   \n",
       "\n",
       "   chV6_QRSTA  class  \n",
       "0        49.4      8  \n",
       "1        38.8      6  \n",
       "2        49.0     10  \n",
       "3        61.6      1  \n",
       "4        62.8      7  \n",
       "\n",
       "[5 rows x 280 columns]"
      ]
     },
     "execution_count": 5,
     "metadata": {},
     "output_type": "execute_result"
    }
   ],
   "source": [
    "data.head()"
   ]
  },
  {
   "cell_type": "code",
   "execution_count": 6,
   "id": "82c17987",
   "metadata": {},
   "outputs": [
    {
     "data": {
      "text/html": [
       "<div>\n",
       "<style scoped>\n",
       "    .dataframe tbody tr th:only-of-type {\n",
       "        vertical-align: middle;\n",
       "    }\n",
       "\n",
       "    .dataframe tbody tr th {\n",
       "        vertical-align: top;\n",
       "    }\n",
       "\n",
       "    .dataframe thead th {\n",
       "        text-align: right;\n",
       "    }\n",
       "</style>\n",
       "<table border=\"1\" class=\"dataframe\">\n",
       "  <thead>\n",
       "    <tr style=\"text-align: right;\">\n",
       "      <th></th>\n",
       "      <th>age</th>\n",
       "      <th>sex</th>\n",
       "      <th>height</th>\n",
       "      <th>weight</th>\n",
       "      <th>QRSduration</th>\n",
       "      <th>PRinterval</th>\n",
       "      <th>Q-Tinterval</th>\n",
       "      <th>Tinterval</th>\n",
       "      <th>Pinterval</th>\n",
       "      <th>QRS</th>\n",
       "      <th>...</th>\n",
       "      <th>chV6_QwaveAmp</th>\n",
       "      <th>chV6_RwaveAmp</th>\n",
       "      <th>chV6_SwaveAmp</th>\n",
       "      <th>chV6_RPwaveAmp</th>\n",
       "      <th>chV6_SPwaveAmp</th>\n",
       "      <th>chV6_PwaveAmp</th>\n",
       "      <th>chV6_TwaveAmp</th>\n",
       "      <th>chV6_QRSA</th>\n",
       "      <th>chV6_QRSTA</th>\n",
       "      <th>class</th>\n",
       "    </tr>\n",
       "  </thead>\n",
       "  <tbody>\n",
       "    <tr>\n",
       "      <th>447</th>\n",
       "      <td>53</td>\n",
       "      <td>1</td>\n",
       "      <td>160</td>\n",
       "      <td>70</td>\n",
       "      <td>80</td>\n",
       "      <td>199</td>\n",
       "      <td>382</td>\n",
       "      <td>154</td>\n",
       "      <td>117</td>\n",
       "      <td>-37</td>\n",
       "      <td>...</td>\n",
       "      <td>0.0</td>\n",
       "      <td>4.3</td>\n",
       "      <td>-5.0</td>\n",
       "      <td>0.0</td>\n",
       "      <td>0.0</td>\n",
       "      <td>0.7</td>\n",
       "      <td>0.6</td>\n",
       "      <td>-4.4</td>\n",
       "      <td>-0.5</td>\n",
       "      <td>1</td>\n",
       "    </tr>\n",
       "    <tr>\n",
       "      <th>448</th>\n",
       "      <td>37</td>\n",
       "      <td>0</td>\n",
       "      <td>190</td>\n",
       "      <td>85</td>\n",
       "      <td>100</td>\n",
       "      <td>137</td>\n",
       "      <td>361</td>\n",
       "      <td>201</td>\n",
       "      <td>73</td>\n",
       "      <td>86</td>\n",
       "      <td>...</td>\n",
       "      <td>0.0</td>\n",
       "      <td>15.6</td>\n",
       "      <td>-1.6</td>\n",
       "      <td>0.0</td>\n",
       "      <td>0.0</td>\n",
       "      <td>0.4</td>\n",
       "      <td>2.4</td>\n",
       "      <td>38.0</td>\n",
       "      <td>62.4</td>\n",
       "      <td>10</td>\n",
       "    </tr>\n",
       "    <tr>\n",
       "      <th>449</th>\n",
       "      <td>36</td>\n",
       "      <td>0</td>\n",
       "      <td>166</td>\n",
       "      <td>68</td>\n",
       "      <td>108</td>\n",
       "      <td>176</td>\n",
       "      <td>365</td>\n",
       "      <td>194</td>\n",
       "      <td>116</td>\n",
       "      <td>-85</td>\n",
       "      <td>...</td>\n",
       "      <td>0.0</td>\n",
       "      <td>16.3</td>\n",
       "      <td>-28.6</td>\n",
       "      <td>0.0</td>\n",
       "      <td>0.0</td>\n",
       "      <td>1.5</td>\n",
       "      <td>1.0</td>\n",
       "      <td>-44.2</td>\n",
       "      <td>-33.2</td>\n",
       "      <td>2</td>\n",
       "    </tr>\n",
       "    <tr>\n",
       "      <th>450</th>\n",
       "      <td>32</td>\n",
       "      <td>1</td>\n",
       "      <td>155</td>\n",
       "      <td>55</td>\n",
       "      <td>93</td>\n",
       "      <td>106</td>\n",
       "      <td>386</td>\n",
       "      <td>218</td>\n",
       "      <td>63</td>\n",
       "      <td>54</td>\n",
       "      <td>...</td>\n",
       "      <td>-0.4</td>\n",
       "      <td>12.0</td>\n",
       "      <td>-0.7</td>\n",
       "      <td>0.0</td>\n",
       "      <td>0.0</td>\n",
       "      <td>0.5</td>\n",
       "      <td>2.4</td>\n",
       "      <td>25.0</td>\n",
       "      <td>46.6</td>\n",
       "      <td>1</td>\n",
       "    </tr>\n",
       "    <tr>\n",
       "      <th>451</th>\n",
       "      <td>78</td>\n",
       "      <td>1</td>\n",
       "      <td>160</td>\n",
       "      <td>70</td>\n",
       "      <td>79</td>\n",
       "      <td>127</td>\n",
       "      <td>364</td>\n",
       "      <td>138</td>\n",
       "      <td>78</td>\n",
       "      <td>28</td>\n",
       "      <td>...</td>\n",
       "      <td>0.0</td>\n",
       "      <td>10.4</td>\n",
       "      <td>-1.8</td>\n",
       "      <td>0.0</td>\n",
       "      <td>0.0</td>\n",
       "      <td>0.5</td>\n",
       "      <td>1.6</td>\n",
       "      <td>21.3</td>\n",
       "      <td>32.8</td>\n",
       "      <td>1</td>\n",
       "    </tr>\n",
       "  </tbody>\n",
       "</table>\n",
       "<p>5 rows × 280 columns</p>\n",
       "</div>"
      ],
      "text/plain": [
       "     age  sex  height  weight  QRSduration  PRinterval  Q-Tinterval  \\\n",
       "447   53    1     160      70           80         199          382   \n",
       "448   37    0     190      85          100         137          361   \n",
       "449   36    0     166      68          108         176          365   \n",
       "450   32    1     155      55           93         106          386   \n",
       "451   78    1     160      70           79         127          364   \n",
       "\n",
       "     Tinterval  Pinterval  QRS  ...  chV6_QwaveAmp  chV6_RwaveAmp  \\\n",
       "447        154        117  -37  ...            0.0            4.3   \n",
       "448        201         73   86  ...            0.0           15.6   \n",
       "449        194        116  -85  ...            0.0           16.3   \n",
       "450        218         63   54  ...           -0.4           12.0   \n",
       "451        138         78   28  ...            0.0           10.4   \n",
       "\n",
       "     chV6_SwaveAmp  chV6_RPwaveAmp  chV6_SPwaveAmp  chV6_PwaveAmp  \\\n",
       "447           -5.0             0.0             0.0            0.7   \n",
       "448           -1.6             0.0             0.0            0.4   \n",
       "449          -28.6             0.0             0.0            1.5   \n",
       "450           -0.7             0.0             0.0            0.5   \n",
       "451           -1.8             0.0             0.0            0.5   \n",
       "\n",
       "     chV6_TwaveAmp  chV6_QRSA  chV6_QRSTA  class  \n",
       "447            0.6       -4.4        -0.5      1  \n",
       "448            2.4       38.0        62.4     10  \n",
       "449            1.0      -44.2       -33.2      2  \n",
       "450            2.4       25.0        46.6      1  \n",
       "451            1.6       21.3        32.8      1  \n",
       "\n",
       "[5 rows x 280 columns]"
      ]
     },
     "execution_count": 6,
     "metadata": {},
     "output_type": "execute_result"
    }
   ],
   "source": [
    "data.tail()"
   ]
  },
  {
   "cell_type": "code",
   "execution_count": 7,
   "id": "a554a098",
   "metadata": {},
   "outputs": [
    {
     "data": {
      "text/html": [
       "<div>\n",
       "<style scoped>\n",
       "    .dataframe tbody tr th:only-of-type {\n",
       "        vertical-align: middle;\n",
       "    }\n",
       "\n",
       "    .dataframe tbody tr th {\n",
       "        vertical-align: top;\n",
       "    }\n",
       "\n",
       "    .dataframe thead th {\n",
       "        text-align: right;\n",
       "    }\n",
       "</style>\n",
       "<table border=\"1\" class=\"dataframe\">\n",
       "  <thead>\n",
       "    <tr style=\"text-align: right;\">\n",
       "      <th></th>\n",
       "      <th>age</th>\n",
       "      <th>sex</th>\n",
       "      <th>height</th>\n",
       "      <th>weight</th>\n",
       "      <th>QRSduration</th>\n",
       "      <th>PRinterval</th>\n",
       "      <th>Q-Tinterval</th>\n",
       "      <th>Tinterval</th>\n",
       "      <th>Pinterval</th>\n",
       "      <th>QRS</th>\n",
       "      <th>...</th>\n",
       "      <th>chV6_QwaveAmp</th>\n",
       "      <th>chV6_RwaveAmp</th>\n",
       "      <th>chV6_SwaveAmp</th>\n",
       "      <th>chV6_RPwaveAmp</th>\n",
       "      <th>chV6_SPwaveAmp</th>\n",
       "      <th>chV6_PwaveAmp</th>\n",
       "      <th>chV6_TwaveAmp</th>\n",
       "      <th>chV6_QRSA</th>\n",
       "      <th>chV6_QRSTA</th>\n",
       "      <th>class</th>\n",
       "    </tr>\n",
       "  </thead>\n",
       "  <tbody>\n",
       "    <tr>\n",
       "      <th>count</th>\n",
       "      <td>452.000000</td>\n",
       "      <td>452.000000</td>\n",
       "      <td>452.000000</td>\n",
       "      <td>452.000000</td>\n",
       "      <td>452.000000</td>\n",
       "      <td>452.000000</td>\n",
       "      <td>452.000000</td>\n",
       "      <td>452.000000</td>\n",
       "      <td>452.000000</td>\n",
       "      <td>452.000000</td>\n",
       "      <td>...</td>\n",
       "      <td>452.000000</td>\n",
       "      <td>452.000000</td>\n",
       "      <td>452.000000</td>\n",
       "      <td>452.000000</td>\n",
       "      <td>452.0</td>\n",
       "      <td>452.000000</td>\n",
       "      <td>452.000000</td>\n",
       "      <td>452.000000</td>\n",
       "      <td>452.000000</td>\n",
       "      <td>452.000000</td>\n",
       "    </tr>\n",
       "    <tr>\n",
       "      <th>mean</th>\n",
       "      <td>46.471239</td>\n",
       "      <td>0.550885</td>\n",
       "      <td>166.188053</td>\n",
       "      <td>68.170354</td>\n",
       "      <td>88.920354</td>\n",
       "      <td>155.152655</td>\n",
       "      <td>367.207965</td>\n",
       "      <td>169.949115</td>\n",
       "      <td>90.004425</td>\n",
       "      <td>33.676991</td>\n",
       "      <td>...</td>\n",
       "      <td>-0.278982</td>\n",
       "      <td>9.048009</td>\n",
       "      <td>-1.457301</td>\n",
       "      <td>0.003982</td>\n",
       "      <td>0.0</td>\n",
       "      <td>0.514823</td>\n",
       "      <td>1.222345</td>\n",
       "      <td>19.326106</td>\n",
       "      <td>29.473230</td>\n",
       "      <td>3.880531</td>\n",
       "    </tr>\n",
       "    <tr>\n",
       "      <th>std</th>\n",
       "      <td>16.466631</td>\n",
       "      <td>0.497955</td>\n",
       "      <td>37.170340</td>\n",
       "      <td>16.590803</td>\n",
       "      <td>15.364394</td>\n",
       "      <td>44.842283</td>\n",
       "      <td>33.385421</td>\n",
       "      <td>35.633072</td>\n",
       "      <td>25.826643</td>\n",
       "      <td>45.431434</td>\n",
       "      <td>...</td>\n",
       "      <td>0.548876</td>\n",
       "      <td>3.472862</td>\n",
       "      <td>2.002430</td>\n",
       "      <td>0.050118</td>\n",
       "      <td>0.0</td>\n",
       "      <td>0.347531</td>\n",
       "      <td>1.426052</td>\n",
       "      <td>13.503922</td>\n",
       "      <td>18.493927</td>\n",
       "      <td>4.407097</td>\n",
       "    </tr>\n",
       "    <tr>\n",
       "      <th>min</th>\n",
       "      <td>0.000000</td>\n",
       "      <td>0.000000</td>\n",
       "      <td>105.000000</td>\n",
       "      <td>6.000000</td>\n",
       "      <td>55.000000</td>\n",
       "      <td>0.000000</td>\n",
       "      <td>232.000000</td>\n",
       "      <td>108.000000</td>\n",
       "      <td>0.000000</td>\n",
       "      <td>-172.000000</td>\n",
       "      <td>...</td>\n",
       "      <td>-4.100000</td>\n",
       "      <td>0.000000</td>\n",
       "      <td>-28.600000</td>\n",
       "      <td>0.000000</td>\n",
       "      <td>0.0</td>\n",
       "      <td>-0.800000</td>\n",
       "      <td>-6.000000</td>\n",
       "      <td>-44.200000</td>\n",
       "      <td>-38.600000</td>\n",
       "      <td>1.000000</td>\n",
       "    </tr>\n",
       "    <tr>\n",
       "      <th>25%</th>\n",
       "      <td>36.000000</td>\n",
       "      <td>0.000000</td>\n",
       "      <td>160.000000</td>\n",
       "      <td>59.000000</td>\n",
       "      <td>80.000000</td>\n",
       "      <td>142.000000</td>\n",
       "      <td>350.000000</td>\n",
       "      <td>148.000000</td>\n",
       "      <td>79.000000</td>\n",
       "      <td>3.750000</td>\n",
       "      <td>...</td>\n",
       "      <td>-0.425000</td>\n",
       "      <td>6.600000</td>\n",
       "      <td>-2.100000</td>\n",
       "      <td>0.000000</td>\n",
       "      <td>0.0</td>\n",
       "      <td>0.400000</td>\n",
       "      <td>0.500000</td>\n",
       "      <td>11.450000</td>\n",
       "      <td>17.550000</td>\n",
       "      <td>1.000000</td>\n",
       "    </tr>\n",
       "    <tr>\n",
       "      <th>50%</th>\n",
       "      <td>47.000000</td>\n",
       "      <td>1.000000</td>\n",
       "      <td>164.000000</td>\n",
       "      <td>68.000000</td>\n",
       "      <td>86.000000</td>\n",
       "      <td>157.000000</td>\n",
       "      <td>367.000000</td>\n",
       "      <td>162.000000</td>\n",
       "      <td>91.000000</td>\n",
       "      <td>40.000000</td>\n",
       "      <td>...</td>\n",
       "      <td>0.000000</td>\n",
       "      <td>8.800000</td>\n",
       "      <td>-1.100000</td>\n",
       "      <td>0.000000</td>\n",
       "      <td>0.0</td>\n",
       "      <td>0.500000</td>\n",
       "      <td>1.350000</td>\n",
       "      <td>18.100000</td>\n",
       "      <td>27.900000</td>\n",
       "      <td>1.000000</td>\n",
       "    </tr>\n",
       "    <tr>\n",
       "      <th>75%</th>\n",
       "      <td>58.000000</td>\n",
       "      <td>1.000000</td>\n",
       "      <td>170.000000</td>\n",
       "      <td>79.000000</td>\n",
       "      <td>94.000000</td>\n",
       "      <td>175.000000</td>\n",
       "      <td>384.000000</td>\n",
       "      <td>179.000000</td>\n",
       "      <td>102.000000</td>\n",
       "      <td>66.000000</td>\n",
       "      <td>...</td>\n",
       "      <td>0.000000</td>\n",
       "      <td>11.200000</td>\n",
       "      <td>0.000000</td>\n",
       "      <td>0.000000</td>\n",
       "      <td>0.0</td>\n",
       "      <td>0.700000</td>\n",
       "      <td>2.100000</td>\n",
       "      <td>25.825000</td>\n",
       "      <td>41.125000</td>\n",
       "      <td>6.000000</td>\n",
       "    </tr>\n",
       "    <tr>\n",
       "      <th>max</th>\n",
       "      <td>83.000000</td>\n",
       "      <td>1.000000</td>\n",
       "      <td>780.000000</td>\n",
       "      <td>176.000000</td>\n",
       "      <td>188.000000</td>\n",
       "      <td>524.000000</td>\n",
       "      <td>509.000000</td>\n",
       "      <td>381.000000</td>\n",
       "      <td>205.000000</td>\n",
       "      <td>169.000000</td>\n",
       "      <td>...</td>\n",
       "      <td>0.000000</td>\n",
       "      <td>23.600000</td>\n",
       "      <td>0.000000</td>\n",
       "      <td>0.800000</td>\n",
       "      <td>0.0</td>\n",
       "      <td>2.400000</td>\n",
       "      <td>6.000000</td>\n",
       "      <td>88.800000</td>\n",
       "      <td>115.900000</td>\n",
       "      <td>16.000000</td>\n",
       "    </tr>\n",
       "  </tbody>\n",
       "</table>\n",
       "<p>8 rows × 280 columns</p>\n",
       "</div>"
      ],
      "text/plain": [
       "              age         sex      height      weight  QRSduration  \\\n",
       "count  452.000000  452.000000  452.000000  452.000000   452.000000   \n",
       "mean    46.471239    0.550885  166.188053   68.170354    88.920354   \n",
       "std     16.466631    0.497955   37.170340   16.590803    15.364394   \n",
       "min      0.000000    0.000000  105.000000    6.000000    55.000000   \n",
       "25%     36.000000    0.000000  160.000000   59.000000    80.000000   \n",
       "50%     47.000000    1.000000  164.000000   68.000000    86.000000   \n",
       "75%     58.000000    1.000000  170.000000   79.000000    94.000000   \n",
       "max     83.000000    1.000000  780.000000  176.000000   188.000000   \n",
       "\n",
       "       PRinterval  Q-Tinterval   Tinterval   Pinterval         QRS  ...  \\\n",
       "count  452.000000   452.000000  452.000000  452.000000  452.000000  ...   \n",
       "mean   155.152655   367.207965  169.949115   90.004425   33.676991  ...   \n",
       "std     44.842283    33.385421   35.633072   25.826643   45.431434  ...   \n",
       "min      0.000000   232.000000  108.000000    0.000000 -172.000000  ...   \n",
       "25%    142.000000   350.000000  148.000000   79.000000    3.750000  ...   \n",
       "50%    157.000000   367.000000  162.000000   91.000000   40.000000  ...   \n",
       "75%    175.000000   384.000000  179.000000  102.000000   66.000000  ...   \n",
       "max    524.000000   509.000000  381.000000  205.000000  169.000000  ...   \n",
       "\n",
       "       chV6_QwaveAmp  chV6_RwaveAmp  chV6_SwaveAmp  chV6_RPwaveAmp  \\\n",
       "count     452.000000     452.000000     452.000000      452.000000   \n",
       "mean       -0.278982       9.048009      -1.457301        0.003982   \n",
       "std         0.548876       3.472862       2.002430        0.050118   \n",
       "min        -4.100000       0.000000     -28.600000        0.000000   \n",
       "25%        -0.425000       6.600000      -2.100000        0.000000   \n",
       "50%         0.000000       8.800000      -1.100000        0.000000   \n",
       "75%         0.000000      11.200000       0.000000        0.000000   \n",
       "max         0.000000      23.600000       0.000000        0.800000   \n",
       "\n",
       "       chV6_SPwaveAmp  chV6_PwaveAmp  chV6_TwaveAmp   chV6_QRSA  chV6_QRSTA  \\\n",
       "count           452.0     452.000000     452.000000  452.000000  452.000000   \n",
       "mean              0.0       0.514823       1.222345   19.326106   29.473230   \n",
       "std               0.0       0.347531       1.426052   13.503922   18.493927   \n",
       "min               0.0      -0.800000      -6.000000  -44.200000  -38.600000   \n",
       "25%               0.0       0.400000       0.500000   11.450000   17.550000   \n",
       "50%               0.0       0.500000       1.350000   18.100000   27.900000   \n",
       "75%               0.0       0.700000       2.100000   25.825000   41.125000   \n",
       "max               0.0       2.400000       6.000000   88.800000  115.900000   \n",
       "\n",
       "            class  \n",
       "count  452.000000  \n",
       "mean     3.880531  \n",
       "std      4.407097  \n",
       "min      1.000000  \n",
       "25%      1.000000  \n",
       "50%      1.000000  \n",
       "75%      6.000000  \n",
       "max     16.000000  \n",
       "\n",
       "[8 rows x 280 columns]"
      ]
     },
     "execution_count": 7,
     "metadata": {},
     "output_type": "execute_result"
    }
   ],
   "source": [
    "data.describe()"
   ]
  },
  {
   "cell_type": "markdown",
   "id": "8f4cea54",
   "metadata": {},
   "source": [
    "## Data Preprocessing"
   ]
  },
  {
   "cell_type": "code",
   "execution_count": 8,
   "id": "1e20c111",
   "metadata": {},
   "outputs": [],
   "source": [
    "data[(data.astype(str) == '?')] = np.nan"
   ]
  },
  {
   "cell_type": "code",
   "execution_count": 9,
   "id": "b6167cbc",
   "metadata": {},
   "outputs": [
    {
     "data": {
      "text/plain": [
       "Index(['T', 'P', 'QRST', 'J', 'heartrate'], dtype='object')"
      ]
     },
     "execution_count": 9,
     "metadata": {},
     "output_type": "execute_result"
    }
   ],
   "source": [
    "# Columns with missing data( '?')\n",
    "null_columns=data.columns[data.isnull().any()] \n",
    "data[null_columns].isnull().sum()\n",
    "null_columns"
   ]
  },
  {
   "cell_type": "code",
   "execution_count": 10,
   "id": "0f640199",
   "metadata": {},
   "outputs": [
    {
     "name": "stdout",
     "output_type": "stream",
     "text": [
      "<class 'pandas.core.frame.DataFrame'>\n",
      "RangeIndex: 452 entries, 0 to 451\n",
      "Columns: 280 entries, age to class\n",
      "dtypes: float64(125), int64(155)\n",
      "memory usage: 988.9 KB\n"
     ]
    }
   ],
   "source": [
    "data= data.fillna( method='ffill') \n",
    "data= data.fillna( method='bfill')\n",
    "data.info()"
   ]
  },
  {
   "cell_type": "code",
   "execution_count": 11,
   "id": "68ffcdd9",
   "metadata": {},
   "outputs": [
    {
     "data": {
      "text/plain": [
       "Index([], dtype='object')"
      ]
     },
     "execution_count": 11,
     "metadata": {},
     "output_type": "execute_result"
    }
   ],
   "source": [
    "# Missing value double-check\n",
    "null_columns=data.columns[data.isnull().any()] \n",
    "data[null_columns].isnull().sum()\n",
    "null_columns"
   ]
  },
  {
   "cell_type": "code",
   "execution_count": 12,
   "id": "b38a1932",
   "metadata": {},
   "outputs": [],
   "source": [
    "X = data.loc[:, 'age':'chV6_QRSTA']\n",
    "y= data['class']"
   ]
  },
  {
   "cell_type": "code",
   "execution_count": 13,
   "id": "2460a5f2",
   "metadata": {},
   "outputs": [],
   "source": [
    "from sklearn.preprocessing import MinMaxScaler\n",
    "X_train, X_test, y_train, y_test = train_test_split(X,y, random_state = 10)\n",
    "\n",
    "scaler = MinMaxScaler()\n",
    "X_train = scaler.fit_transform(X_train)\n",
    "X_test = scaler.transform(X_test)"
   ]
  },
  {
   "cell_type": "markdown",
   "id": "7363f466",
   "metadata": {},
   "source": [
    "# Part I: GridSeachCV, Bagging, Boosting, Voting Classifier\n",
    "#### Evaluation strategy is GridSearchCV because it is fundamental to choose the best parameters.\n",
    "## 1) GridSearchCV & Hard Voting ( Pure Estimators)\n",
    "### K Nearest Neighbors (K=5)"
   ]
  },
  {
   "cell_type": "code",
   "execution_count": 14,
   "id": "c1ac28b1",
   "metadata": {},
   "outputs": [
    {
     "name": "stdout",
     "output_type": "stream",
     "text": [
      "Best parameters: {'n_neighbors': 3}\n",
      "Best cross-validation score: 0.57\n",
      "Best estimator:\n",
      "KNeighborsClassifier(n_neighbors=3)\n",
      "KNN score( training): 0.660767\n",
      "KNN score (testing): 0.601770\n"
     ]
    }
   ],
   "source": [
    "param = {'n_neighbors':[1,3,5,7,15,55]} #create dict of parameters\n",
    "\n",
    "grid_search_knn = GridSearchCV(KNeighborsClassifier(),param, cv=2) # each parameter has a cv of 2 folds.\n",
    "grid_search_knn.fit(X_train, y_train)\n",
    "print(\"Best parameters: {}\".format(grid_search_knn.best_params_)) \n",
    "print(\"Best cross-validation score: {:.2f}\".format(grid_search_knn.best_score_)) \n",
    "print(\"Best estimator:\\n{}\".format(grid_search_knn.best_estimator_))\n",
    "\n",
    "results = pd.DataFrame(grid_search_knn.cv_results_)\n",
    "scores = np.array(results.mean_test_score)\n",
    "train_score = grid_search_knn.score(X_train,y_train)\n",
    "test_score = grid_search_knn.score(X_test,y_test)\n",
    "print('KNN score( training): {:.6f}'\n",
    "     .format(train_score))\n",
    "print('KNN score (testing): {:.6f}'\n",
    "     .format(test_score))"
   ]
  },
  {
   "cell_type": "markdown",
   "id": "597aacb9",
   "metadata": {},
   "source": [
    "### Logistic Regression (penalty='l2')"
   ]
  },
  {
   "cell_type": "code",
   "execution_count": 15,
   "id": "54f9c044",
   "metadata": {},
   "outputs": [
    {
     "name": "stdout",
     "output_type": "stream",
     "text": [
      "Best parameters: {'penalty': 'l2'}\n",
      "Best cross-validation score: 0.64\n",
      "Best estimator:\n",
      "LogisticRegression(max_iter=1000)\n",
      "LogReg score( training): 0.855457\n",
      "LogReg score (testing): 0.672566\n"
     ]
    }
   ],
   "source": [
    "paramlog = {'penalty':['l2']} #create dict of parameters\n",
    "\n",
    "grid_search_log = GridSearchCV(LogisticRegression(solver='lbfgs', max_iter=1000),paramlog, cv=2) # each parameter has a cv of 2 folds.\n",
    "grid_search_log.fit(X_train, y_train)\n",
    "print(\"Best parameters: {}\".format(grid_search_log.best_params_)) \n",
    "print(\"Best cross-validation score: {:.2f}\".format(grid_search_log.best_score_)) \n",
    "print(\"Best estimator:\\n{}\".format(grid_search_log.best_estimator_))\n",
    "\n",
    "results = pd.DataFrame(grid_search_log.cv_results_)\n",
    "scores = np.array(results.mean_test_score)\n",
    "train_score = grid_search_log.score(X_train,y_train)\n",
    "test_score = grid_search_log.score(X_test,y_test)\n",
    "print('LogReg score( training): {:.6f}'\n",
    "     .format(train_score))\n",
    "print('LogReg score (testing): {:.6f}'\n",
    "     .format(test_score))"
   ]
  },
  {
   "cell_type": "markdown",
   "id": "803cf217",
   "metadata": {},
   "source": [
    "### Linear SVC\n",
    "#### Best Estimator without Ensemble Method"
   ]
  },
  {
   "cell_type": "code",
   "execution_count": 16,
   "id": "e4557ec3",
   "metadata": {},
   "outputs": [
    {
     "name": "stderr",
     "output_type": "stream",
     "text": [
      "c:\\users\\prassantha\\appdata\\local\\programs\\python\\python39\\lib\\site-packages\\sklearn\\svm\\_base.py:1199: ConvergenceWarning: Liblinear failed to converge, increase the number of iterations.\n",
      "  warnings.warn(\n",
      "c:\\users\\prassantha\\appdata\\local\\programs\\python\\python39\\lib\\site-packages\\sklearn\\svm\\_base.py:1199: ConvergenceWarning: Liblinear failed to converge, increase the number of iterations.\n",
      "  warnings.warn(\n",
      "c:\\users\\prassantha\\appdata\\local\\programs\\python\\python39\\lib\\site-packages\\sklearn\\svm\\_base.py:1199: ConvergenceWarning: Liblinear failed to converge, increase the number of iterations.\n",
      "  warnings.warn(\n",
      "c:\\users\\prassantha\\appdata\\local\\programs\\python\\python39\\lib\\site-packages\\sklearn\\svm\\_base.py:1199: ConvergenceWarning: Liblinear failed to converge, increase the number of iterations.\n",
      "  warnings.warn(\n",
      "c:\\users\\prassantha\\appdata\\local\\programs\\python\\python39\\lib\\site-packages\\sklearn\\svm\\_base.py:1199: ConvergenceWarning: Liblinear failed to converge, increase the number of iterations.\n",
      "  warnings.warn(\n",
      "c:\\users\\prassantha\\appdata\\local\\programs\\python\\python39\\lib\\site-packages\\sklearn\\svm\\_base.py:1199: ConvergenceWarning: Liblinear failed to converge, increase the number of iterations.\n",
      "  warnings.warn(\n"
     ]
    },
    {
     "name": "stdout",
     "output_type": "stream",
     "text": [
      "Best parameters: {'C': 1}\n",
      "Best cross-validation score: 0.67\n",
      "Best estimator:\n",
      "LinearSVC(C=1)\n",
      "Linear svc score( training): 0.949853\n",
      "Linear svc score (testing): 0.663717\n"
     ]
    },
    {
     "name": "stderr",
     "output_type": "stream",
     "text": [
      "c:\\users\\prassantha\\appdata\\local\\programs\\python\\python39\\lib\\site-packages\\sklearn\\svm\\_base.py:1199: ConvergenceWarning: Liblinear failed to converge, increase the number of iterations.\n",
      "  warnings.warn(\n"
     ]
    }
   ],
   "source": [
    "paramC = {'C':[0.01,0.1,1,10,100]} #create dict of parameters\n",
    "\n",
    "grid_search_svc = GridSearchCV(LinearSVC(),paramC, cv=2) # each parameter has a cv of 10 folds.\n",
    "grid_search_svc.fit(X_train, y_train)\n",
    "print(\"Best parameters: {}\".format(grid_search_svc.best_params_)) \n",
    "print(\"Best cross-validation score: {:.2f}\".format(grid_search_svc.best_score_)) \n",
    "print(\"Best estimator:\\n{}\".format(grid_search_svc.best_estimator_))\n",
    "\n",
    "results = pd.DataFrame(grid_search_svc.cv_results_)\n",
    "scores = np.array(results.mean_test_score)\n",
    "train_score = grid_search_svc.score(X_train,y_train)\n",
    "test_score = grid_search_svc.score(X_test,y_test)\n",
    "print('Linear svc score( training): {:.6f}'\n",
    "     .format(train_score))\n",
    "print('Linear svc score (testing): {:.6f}'\n",
    "     .format(test_score))"
   ]
  },
  {
   "cell_type": "markdown",
   "id": "4535a630",
   "metadata": {},
   "source": [
    "### Kernel SVC"
   ]
  },
  {
   "cell_type": "code",
   "execution_count": 17,
   "id": "06d35e7e",
   "metadata": {},
   "outputs": [
    {
     "name": "stdout",
     "output_type": "stream",
     "text": [
      "Best parameters: {'C': 10, 'gamma': 0.1}\n",
      "Best cross-validation score: 0.65\n",
      "Best estimator:\n",
      "SVC(C=10, gamma=0.1)\n",
      "rbf score( training): 0.985251\n",
      "rbf score (testing): 0.672566\n"
     ]
    }
   ],
   "source": [
    "param_grid = {'C': [0.001, 0.01, 0.1, 1, 10, 100],\n",
    "              'gamma': [0.001, 0.01, 0.1, 1, 10, 100]} #create dict of parameters\n",
    "\n",
    "grid_search_rbf = GridSearchCV(SVC(kernel = 'rbf'),param_grid, cv=2) # each parameter has a cv of 2 folds.\n",
    "grid_search_rbf.fit(X_train, y_train)\n",
    "print(\"Best parameters: {}\".format(grid_search_rbf.best_params_)) \n",
    "print(\"Best cross-validation score: {:.2f}\".format(grid_search_rbf.best_score_)) \n",
    "print(\"Best estimator:\\n{}\".format(grid_search_rbf.best_estimator_))\n",
    "\n",
    "results = pd.DataFrame(grid_search_rbf.cv_results_)\n",
    "scores = np.array(results.mean_test_score)\n",
    "train_score = grid_search_rbf.score(X_train,y_train)\n",
    "test_score = grid_search_rbf.score(X_test,y_test)\n",
    "print('rbf score( training): {:.6f}'\n",
    "     .format(train_score))\n",
    "print('rbf score (testing): {:.6f}'\n",
    "     .format(test_score))"
   ]
  },
  {
   "cell_type": "markdown",
   "id": "7a884fe0",
   "metadata": {},
   "source": [
    "### Desicion Tree"
   ]
  },
  {
   "cell_type": "code",
   "execution_count": 18,
   "id": "dab8876b",
   "metadata": {},
   "outputs": [
    {
     "name": "stdout",
     "output_type": "stream",
     "text": [
      "Best parameters: {'max_depth': 8}\n",
      "Best cross-validation score: 0.67\n",
      "Best estimator:\n",
      "DecisionTreeClassifier(max_depth=8)\n",
      "Decision Tree score( training): 0.938053\n",
      "Decision Tree score (testing): 0.601770\n"
     ]
    }
   ],
   "source": [
    "depth = {'max_depth':[8,58,108,138,158,208,258,279]} #create dict of parameters\n",
    "grid_search_dtc = GridSearchCV(dtc(),depth, cv=2) # each parameter has a cv of 2 folds.\n",
    "grid_search_dtc.fit(X_train, y_train)\n",
    "print(\"Best parameters: {}\".format(grid_search_dtc.best_params_)) \n",
    "print(\"Best cross-validation score: {:.2f}\".format(grid_search_dtc.best_score_)) \n",
    "print(\"Best estimator:\\n{}\".format(grid_search_dtc.best_estimator_))\n",
    "\n",
    "results = pd.DataFrame(grid_search_dtc.cv_results_)\n",
    "scores = np.array(results.mean_test_score)\n",
    "train_score = grid_search_dtc.score(X_train,y_train)\n",
    "test_score = grid_search_dtc.score(X_test,y_test)\n",
    "print('Decision Tree score( training): {:.6f}'\n",
    "     .format(train_score))\n",
    "print('Decision Tree score (testing): {:.6f}'\n",
    "     .format(test_score))"
   ]
  },
  {
   "cell_type": "markdown",
   "id": "daa85625",
   "metadata": {},
   "source": [
    "### Random Forest"
   ]
  },
  {
   "cell_type": "code",
   "execution_count": 19,
   "id": "7aa627a1",
   "metadata": {},
   "outputs": [
    {
     "name": "stdout",
     "output_type": "stream",
     "text": [
      "Best parameters: {'max_features': 50}\n",
      "Best cross-validation score: 0.72\n",
      "Best estimator:\n",
      "RandomForestClassifier(max_features=50)\n",
      "Random Forest score( training): 1.000000\n",
      "Random Forest score (testing): 0.761062\n"
     ]
    }
   ],
   "source": [
    "maxfeat = {'max_features':[8,10,50,75,105,235,255,275,279]} #create dict of parameters\n",
    "\n",
    "grid_search_rfc = GridSearchCV(rfc(),maxfeat, cv=2) # each parameter has a cv of 10 folds.\n",
    "grid_search_rfc.fit(X_train, y_train)\n",
    "print(\"Best parameters: {}\".format(grid_search_rfc.best_params_)) \n",
    "print(\"Best cross-validation score: {:.2f}\".format(grid_search_rfc.best_score_)) \n",
    "print(\"Best estimator:\\n{}\".format(grid_search_rfc.best_estimator_))\n",
    "\n",
    "results = pd.DataFrame(grid_search_rfc.cv_results_)\n",
    "scores = np.array(results.mean_test_score)\n",
    "train_score = grid_search_rfc.score(X_train,y_train)\n",
    "test_score = grid_search_rfc.score(X_test,y_test)\n",
    "print('Random Forest score( training): {:.6f}'\n",
    "     .format(train_score))\n",
    "print('Random Forest score (testing): {:.6f}'\n",
    "     .format(test_score))"
   ]
  },
  {
   "cell_type": "markdown",
   "id": "5aaf16c9",
   "metadata": {},
   "source": [
    "### Hard Voting\n",
    "\n",
    "In this section, 6 Estimators are used for final hard voting.\n",
    "\n",
    "Soft voting is not included since probability option is unavailable in Linear SVC. Also, It takes too long to calculate in Kernelized SVC.\n",
    "\n",
    "Best parameters chosen for each estimator:\n",
    "\n",
    "KNN Classifier: k=5\n",
    "Logistic Regressor: penalty='l2'\n",
    "Linear SVC: C=0.1\n",
    "Kernelized SVC: C=100, gamma =0.01\n",
    "Decision Tree Classifier: Max_depth=8\n",
    "Random Forest Classifier: Max_features= 279 ( may change due to PCA reduction)"
   ]
  },
  {
   "cell_type": "code",
   "execution_count": 20,
   "id": "7b0fa6e9",
   "metadata": {},
   "outputs": [
    {
     "name": "stderr",
     "output_type": "stream",
     "text": [
      "c:\\users\\prassantha\\appdata\\local\\programs\\python\\python39\\lib\\site-packages\\sklearn\\linear_model\\_logistic.py:814: ConvergenceWarning: lbfgs failed to converge (status=1):\n",
      "STOP: TOTAL NO. of ITERATIONS REACHED LIMIT.\n",
      "\n",
      "Increase the number of iterations (max_iter) or scale the data as shown in:\n",
      "    https://scikit-learn.org/stable/modules/preprocessing.html\n",
      "Please also refer to the documentation for alternative solver options:\n",
      "    https://scikit-learn.org/stable/modules/linear_model.html#logistic-regression\n",
      "  n_iter_i = _check_optimize_result(\n"
     ]
    },
    {
     "name": "stdout",
     "output_type": "stream",
     "text": [
      "Train score: 0.882006\n",
      "Test score: 0.699115\n"
     ]
    }
   ],
   "source": [
    "knn_clf= KNeighborsClassifier(n_neighbors = 5)\n",
    "log_clf = LogisticRegression(penalty='l2',random_state=10)\n",
    "svm_clf = LinearSVC(C=0.1,random_state=10)\n",
    "rbf_clf= SVC(kernel = 'rbf', C =100, gamma =0.01, random_state=10)\n",
    "dtc_clf= dtc(max_depth=8, random_state=10)\n",
    "rfc_clf = rfc(max_features= 279, random_state=10)\n",
    "\n",
    "voting_clf = VotingClassifier(estimators=[('knn',knn_clf),('lr', log_clf), ('svc', svm_clf),\n",
    "                                          ('rbf',rbf_clf),('dtc',dtc_clf),('rfc', rfc_clf)], voting='hard')\n",
    "voting_clf.fit(X_train, y_train)\n",
    "print('Train score: {0:0.6f}'.format(voting_clf.score(X_train,y_train)))\n",
    "print('Test score: {0:0.6f}'.format(voting_clf.score(X_test,y_test)))"
   ]
  },
  {
   "cell_type": "markdown",
   "id": "d60fbc32",
   "metadata": {},
   "source": [
    "# 2) Bagging Ensemble (excluding KNN)\n",
    "#### Because of the nature of K-nearest neighbor classifier, the sample weight is not supported for Bagging Ensemble."
   ]
  },
  {
   "cell_type": "code",
   "execution_count": 21,
   "id": "29cb1ad5",
   "metadata": {},
   "outputs": [],
   "source": [
    "from sklearn.ensemble import BaggingClassifier\n",
    "from sklearn.metrics import accuracy_score"
   ]
  },
  {
   "cell_type": "markdown",
   "id": "e2240a4c",
   "metadata": {},
   "source": [
    "### Logistic Regression"
   ]
  },
  {
   "cell_type": "code",
   "execution_count": 22,
   "id": "8d8bacd0",
   "metadata": {},
   "outputs": [
    {
     "name": "stdout",
     "output_type": "stream",
     "text": [
      "Train score: 0.769912\n",
      "Out of bag score: 0.683628\n"
     ]
    }
   ],
   "source": [
    "bag_log= BaggingClassifier(LogisticRegression(penalty='l2'), \n",
    "                           n_estimators=500, max_samples=100, bootstrap=True,oob_score=True, n_jobs=-1, random_state=10)\n",
    "bag_log.fit(X,y)\n",
    "print('Train score: {0:0.6f}'.format(bag_log.score(X,y)))\n",
    "print('Out of bag score: {0:0.6f}'.format(bag_log.oob_score_))"
   ]
  },
  {
   "cell_type": "markdown",
   "id": "173af20e",
   "metadata": {},
   "source": [
    "### Linear SVC"
   ]
  },
  {
   "cell_type": "code",
   "execution_count": 23,
   "id": "1ba461db",
   "metadata": {},
   "outputs": [
    {
     "name": "stdout",
     "output_type": "stream",
     "text": [
      "Train score: 0.661504\n",
      "Out of bag score: 0.612832\n"
     ]
    }
   ],
   "source": [
    "bag_svc= BaggingClassifier(LinearSVC(C=0.1, random_state=10), \n",
    "                           n_estimators=500, max_samples=100, bootstrap=True, n_jobs=-1, random_state=10,oob_score=True)\n",
    "bag_svc.fit(X, y)\n",
    "print('Train score: {0:0.6f}'.format(bag_svc.score(X,y)))\n",
    "print('Out of bag score: {0:0.6f}'.format(bag_svc.oob_score_)) # Best one so far"
   ]
  },
  {
   "cell_type": "markdown",
   "id": "d604e836",
   "metadata": {},
   "source": [
    "### Kernelized SVC"
   ]
  },
  {
   "cell_type": "code",
   "execution_count": 24,
   "id": "df48e3b8",
   "metadata": {},
   "outputs": [
    {
     "name": "stdout",
     "output_type": "stream",
     "text": [
      "Train score: 0.542035\n",
      "Out of bag score: 0.542035\n"
     ]
    }
   ],
   "source": [
    "bag_rbf=BaggingClassifier(SVC(kernel = 'rbf', C =100, gamma =0.01, random_state=10), \n",
    "                           n_estimators=500, max_samples=100, bootstrap=True, n_jobs=-1, random_state=10,oob_score=True)\n",
    "bag_rbf.fit(X, y)\n",
    "print('Train score: {0:0.6f}'.format(bag_rbf.score(X,y)))\n",
    "print('Out of bag score: {0:0.6f}'.format(bag_rbf.oob_score_))"
   ]
  },
  {
   "cell_type": "markdown",
   "id": "05d07a6c",
   "metadata": {},
   "source": [
    "### Desicion Tree"
   ]
  },
  {
   "cell_type": "code",
   "execution_count": 25,
   "id": "ff49d3e8",
   "metadata": {},
   "outputs": [
    {
     "name": "stdout",
     "output_type": "stream",
     "text": [
      "Train score: 0.825221\n",
      "Out of bag score: 0.725664\n"
     ]
    }
   ],
   "source": [
    "bag_dtc = BaggingClassifier(dtc(max_depth=8, random_state=10), \n",
    "                            n_estimators=500, max_samples=100, bootstrap=True, n_jobs=-1, random_state=10,oob_score=True)\n",
    "bag_dtc.fit(X, y)\n",
    "print('Train score: {0:0.6f}'.format(bag_dtc.score(X,y)))\n",
    "print('Out of bag score: {0:0.6f}'.format(bag_dtc.oob_score_))"
   ]
  },
  {
   "cell_type": "markdown",
   "id": "aa433d66",
   "metadata": {},
   "source": [
    "### Random Forest"
   ]
  },
  {
   "cell_type": "code",
   "execution_count": 26,
   "id": "5c173fb3",
   "metadata": {},
   "outputs": [
    {
     "name": "stdout",
     "output_type": "stream",
     "text": [
      "Train score: 0.787611\n",
      "Out of bag score: 0.674779\n"
     ]
    }
   ],
   "source": [
    "bag_random_forest = BaggingClassifier(rfc(max_features= 279, random_state=10), \n",
    "                           n_estimators=500, max_samples=100, bootstrap=True, n_jobs=-1, random_state=10,oob_score=True)\n",
    "bag_random_forest.fit(X, y)\n",
    "print('Train score: {0:0.6f}'.format(bag_random_forest.score(X,y)))\n",
    "print('Out of bag score: {0:0.6f}'.format(bag_random_forest.oob_score_))"
   ]
  },
  {
   "cell_type": "markdown",
   "id": "e3720501",
   "metadata": {},
   "source": [
    "### Bagging Ensemble : Hard Voting"
   ]
  },
  {
   "cell_type": "code",
   "execution_count": 27,
   "id": "aa736140",
   "metadata": {},
   "outputs": [
    {
     "name": "stdout",
     "output_type": "stream",
     "text": [
      "Train score: 0.705015\n",
      "Test score: 0.601770\n"
     ]
    }
   ],
   "source": [
    "voting_bag_clf = VotingClassifier(estimators=[('lr',bag_log), ('svc',bag_svc),\n",
    "                                          ('rbf',bag_rbf),('dtc',bag_dtc),('rfc', bag_random_forest)], voting='hard')\n",
    "voting_bag_clf.fit(X_train, y_train)\n",
    "print('Train score: {0:0.6f}'.format(voting_bag_clf.score(X_train,y_train)))\n",
    "print('Test score: {0:0.6f}'.format(voting_bag_clf.score(X_test,y_test)))"
   ]
  },
  {
   "cell_type": "markdown",
   "id": "b6d57a2d",
   "metadata": {},
   "source": [
    "# 3) Boosting Ensemble (Excluding KNN)"
   ]
  },
  {
   "cell_type": "code",
   "execution_count": 28,
   "id": "24490e73",
   "metadata": {},
   "outputs": [],
   "source": [
    "from sklearn.ensemble import AdaBoostClassifier"
   ]
  },
  {
   "cell_type": "markdown",
   "id": "a86d9e36",
   "metadata": {},
   "source": [
    "### Logistic Regression"
   ]
  },
  {
   "cell_type": "code",
   "execution_count": 29,
   "id": "d0295ce8",
   "metadata": {},
   "outputs": [
    {
     "name": "stdout",
     "output_type": "stream",
     "text": [
      "Train score: 0.775811\n",
      "Test score: 0.628319\n"
     ]
    }
   ],
   "source": [
    "ada_log = AdaBoostClassifier(\n",
    "    LogisticRegression(penalty='l2'), n_estimators=500,\n",
    "    algorithm=\"SAMME.R\", learning_rate=0.5, random_state=10)\n",
    "ada_log.fit(X_train, y_train)\n",
    "print('Train score: {0:0.6f}'.format(ada_log.score(X_train,y_train)))\n",
    "print('Test score: {0:0.6f}'.format(ada_log.score(X_test,y_test)))"
   ]
  },
  {
   "cell_type": "markdown",
   "id": "5e445b30",
   "metadata": {},
   "source": [
    "### Linear SVC"
   ]
  },
  {
   "cell_type": "code",
   "execution_count": 30,
   "id": "adbd70be",
   "metadata": {},
   "outputs": [
    {
     "name": "stdout",
     "output_type": "stream",
     "text": [
      "Train score: 0.758112\n",
      "Test score: 0.575221\n"
     ]
    }
   ],
   "source": [
    "ada_svc = AdaBoostClassifier(\n",
    "    LinearSVC(C=0.1), n_estimators=500,\n",
    "    algorithm=\"SAMME\", learning_rate=0.5, random_state=10)\n",
    "ada_svc.fit(X_train, y_train)\n",
    "print('Train score: {0:0.6f}'.format(ada_svc.score(X_train,y_train)))\n",
    "print('Test score: {0:0.6f}'.format(ada_svc.score(X_test,y_test)))"
   ]
  },
  {
   "cell_type": "markdown",
   "id": "734a97c2",
   "metadata": {},
   "source": [
    "### Kernelized SVC"
   ]
  },
  {
   "cell_type": "code",
   "execution_count": 31,
   "id": "df1dd315",
   "metadata": {},
   "outputs": [
    {
     "name": "stdout",
     "output_type": "stream",
     "text": [
      "Train score: 0.548673\n",
      "Test score: 0.557522\n"
     ]
    }
   ],
   "source": [
    "ada_rbf = AdaBoostClassifier(\n",
    "    SVC(kernel = 'rbf', C =100, gamma =0.01, random_state=10), n_estimators=500,\n",
    "    algorithm=\"SAMME\", learning_rate=0.5, random_state=10)\n",
    "ada_rbf.fit(X_train, y_train)\n",
    "print('Train score: {0:0.6f}'.format(ada_rbf.score(X_train,y_train)))\n",
    "print('Test score: {0:0.6f}'.format(ada_rbf.score(X_test,y_test)))"
   ]
  },
  {
   "cell_type": "markdown",
   "id": "5c50829a",
   "metadata": {},
   "source": [
    "### Desicion Tree"
   ]
  },
  {
   "cell_type": "code",
   "execution_count": 32,
   "id": "48683efc",
   "metadata": {},
   "outputs": [
    {
     "name": "stdout",
     "output_type": "stream",
     "text": [
      "Train score: 1.000000\n",
      "Test score: 0.646018\n"
     ]
    }
   ],
   "source": [
    "ada_dtc = AdaBoostClassifier(\n",
    "    dtc(max_depth=8), n_estimators=500,\n",
    "    algorithm=\"SAMME.R\", learning_rate=0.5, random_state=10)\n",
    "ada_dtc.fit(X_train, y_train)\n",
    "print('Train score: {0:0.6f}'.format(ada_dtc.score(X_train,y_train)))\n",
    "print('Test score: {0:0.6f}'.format(ada_dtc.score(X_test,y_test)))"
   ]
  },
  {
   "cell_type": "code",
   "execution_count": 33,
   "id": "21be62d6",
   "metadata": {},
   "outputs": [
    {
     "name": "stdout",
     "output_type": "stream",
     "text": [
      "Train score: 1.000000\n",
      "Test score: 0.699115\n",
      "Feature Importance:\n"
     ]
    }
   ],
   "source": [
    "from sklearn.ensemble import GradientBoostingClassifier\n",
    "gb_clf = GradientBoostingClassifier(learning_rate = 0.05)\n",
    "gb_clf.fit(X_train,y_train)\n",
    "print('Train score: {0:0.6f}'.format(gb_clf.score(X_train,y_train)))\n",
    "print('Test score: {0:0.6f}'.format(gb_clf.score(X_test,y_test)))\n",
    "print('Feature Importance:'.format(gb_clf.feature_importances_))"
   ]
  },
  {
   "cell_type": "markdown",
   "id": "c887f18f",
   "metadata": {},
   "source": [
    "### Random Forest"
   ]
  },
  {
   "cell_type": "code",
   "execution_count": 34,
   "id": "218f629f",
   "metadata": {},
   "outputs": [
    {
     "name": "stdout",
     "output_type": "stream",
     "text": [
      "Train score: 1.000000\n",
      "Test score: 0.734513\n"
     ]
    }
   ],
   "source": [
    "ada_rfc = AdaBoostClassifier(\n",
    "    rfc(max_features= 279, random_state=10), n_estimators=500,\n",
    "    algorithm=\"SAMME.R\", learning_rate=0.5, random_state=10)\n",
    "ada_rfc.fit(X_train, y_train)\n",
    "print('Train score: {0:0.6f}'.format(ada_rfc.score(X_train,y_train)))\n",
    "print('Test score: {0:0.6f}'.format(ada_rfc.score(X_test,y_test)))"
   ]
  },
  {
   "cell_type": "markdown",
   "id": "6096a489",
   "metadata": {},
   "source": [
    "### Adaboost Ensemble : Hard voting"
   ]
  },
  {
   "cell_type": "code",
   "execution_count": 35,
   "id": "ae593c74",
   "metadata": {},
   "outputs": [
    {
     "name": "stdout",
     "output_type": "stream",
     "text": [
      "Train score: 0.876106\n",
      "Test score: 0.610619\n"
     ]
    }
   ],
   "source": [
    "voting_ada_clf = VotingClassifier(estimators=[('lr',ada_log), ('svc',ada_svc),\n",
    "                                          ('rbf',ada_rbf),('dtc',ada_dtc),('rfc', ada_rfc)], voting='hard')\n",
    "voting_ada_clf.fit(X_train, y_train)\n",
    "print('Train score: {0:0.6f}'.format(voting_ada_clf.score(X_train,y_train)))\n",
    "print('Test score: {0:0.6f}'.format(voting_ada_clf.score(X_test,y_test)))"
   ]
  },
  {
   "cell_type": "markdown",
   "id": "3e2a2862",
   "metadata": {},
   "source": [
    "# Part III: Evaluation Strategy ( Recall and Micro-average)\n",
    "The purpose of this section is to recommend treatment to people who really have symptoms of Cardiac Arrhythmia. In another word, we do not want to miss people that are predicted to be normal yet actually have symptoms. Therefore, in this situation, I propose using Recall as the classification metric and Micro-Average to address imbalanced data.\n",
    "\n",
    "In this section, I have plotted out pie chart to prove an imbalanced data, where the majority part is normal cases for Cardiac Arrhythmia. Then a binary code is assigned to normal case as 1 versus 0 to the rest as having symptoms. From there I preprocess binary imbalanced data with the same parameters. All the estimators( with the best chosen parameters) will then train and test new data to boil down to confusion matrix and a classification report."
   ]
  },
  {
   "cell_type": "code",
   "execution_count": 36,
   "id": "79ca5a6b",
   "metadata": {},
   "outputs": [
    {
     "data": {
      "text/plain": [
       "([<matplotlib.patches.Wedge at 0x2388c880400>,\n",
       "  <matplotlib.patches.Wedge at 0x23887e8b5e0>,\n",
       "  <matplotlib.patches.Wedge at 0x2389b91a190>,\n",
       "  <matplotlib.patches.Wedge at 0x238a3cc6400>,\n",
       "  <matplotlib.patches.Wedge at 0x2389602fd90>,\n",
       "  <matplotlib.patches.Wedge at 0x2389c8cabb0>,\n",
       "  <matplotlib.patches.Wedge at 0x238a72c2310>,\n",
       "  <matplotlib.patches.Wedge at 0x2389c921700>,\n",
       "  <matplotlib.patches.Wedge at 0x2388cd22cd0>,\n",
       "  <matplotlib.patches.Wedge at 0x238a3f25550>,\n",
       "  <matplotlib.patches.Wedge at 0x2389ba1eb20>,\n",
       "  <matplotlib.patches.Wedge at 0x2389be70d60>,\n",
       "  <matplotlib.patches.Wedge at 0x2389c886be0>],\n",
       " [Text(-1.09042229229435, -0.1448420673269172, '1'),\n",
       "  Text(0.5935350356561759, -0.9261296677294287, '2'),\n",
       "  Text(0.9135533156683283, -0.6127155452829672, '3'),\n",
       "  Text(1.0206008784728229, -0.41033382368567, '4'),\n",
       "  Text(1.0806875196636352, -0.20521813965451588, '5'),\n",
       "  Text(1.0967866373728783, 0.08401828420227701, '6'),\n",
       "  Text(1.059834420956483, 0.29453522735971144, '7'),\n",
       "  Text(1.0489608320982315, 0.3311814800434737, '8'),\n",
       "  Text(1.020600852060291, 0.4103338893801101, '9'),\n",
       "  Text(0.7723925181199653, 0.7832048250312935, '10'),\n",
       "  Text(0.4315238958035531, 1.0118236641581992, '14'),\n",
       "  Text(0.3674277166530434, 1.0368205597089262, '15'),\n",
       "  Text(0.16754556623448402, 1.087165343098816, '16')],\n",
       " [Text(-0.5947757957969182, -0.07900476399650028, '54.2%'),\n",
       "  Text(0.32374638308518683, -0.5051616369433247, '9.7%'),\n",
       "  Text(0.49830180854636086, -0.3342084792452548, '3.3%'),\n",
       "  Text(0.5566913882579033, -0.22381844928309272, '3.3%'),\n",
       "  Text(0.5894659198165282, -0.11193716708428138, '2.9%'),\n",
       "  Text(0.5982472567488426, 0.045828155019423826, '5.5%'),\n",
       "  Text(0.5780915023398997, 0.16065557855984258, '0.7%'),\n",
       "  Text(0.5721604538717626, 0.18064444366007656, '0.4%'),\n",
       "  Text(0.5566913738510677, 0.2238184851164237, '2.0%'),\n",
       "  Text(0.42130500988361747, 0.427202631835251, '11.1%'),\n",
       "  Text(0.23537667043830166, 0.5519038168135632, '0.9%'),\n",
       "  Text(0.20041511817438729, 0.5655384871139597, '1.1%'),\n",
       "  Text(0.0913884906733549, 0.5929992780538996, '4.9%')])"
      ]
     },
     "execution_count": 36,
     "metadata": {},
     "output_type": "execute_result"
    },
    {
     "data": {
      "image/png": "[encoded data removed]",
      "text/plain": [
       "<Figure size 432x288 with 1 Axes>"
      ]
     },
     "metadata": {},
     "output_type": "display_data"
    }
   ],
   "source": [
    "unique, counts = np.unique(y, return_counts=True) \n",
    "plt.pie(counts, labels = unique, autopct='%1.1f%%', shadow=True, startangle=90)"
   ]
  },
  {
   "cell_type": "code",
   "execution_count": 37,
   "id": "3831acde",
   "metadata": {},
   "outputs": [
    {
     "name": "stdout",
     "output_type": "stream",
     "text": [
      "Original labels:\t 1      6\n",
      "2     10\n",
      "3      1\n",
      "4      7\n",
      "5     14\n",
      "6      1\n",
      "7      1\n",
      "8      1\n",
      "9     10\n",
      "10     3\n",
      "11     1\n",
      "12    10\n",
      "13     6\n",
      "14     1\n",
      "15     1\n",
      "16    10\n",
      "Name: class, dtype: int64\n",
      "New binary labels:\t 1     0\n",
      "2     0\n",
      "3     1\n",
      "4     0\n",
      "5     0\n",
      "6     1\n",
      "7     1\n",
      "8     1\n",
      "9     0\n",
      "10    0\n",
      "11    1\n",
      "12    0\n",
      "13    0\n",
      "14    1\n",
      "15    1\n",
      "16    0\n",
      "Name: class, dtype: int64\n"
     ]
    }
   ],
   "source": [
    "y_binary_imbalanced = y.copy()\n",
    "y_binary_imbalanced[y_binary_imbalanced != 1] = 0\n",
    "\n",
    "print('Original labels:\\t', y[1:17])\n",
    "print('New binary labels:\\t', y_binary_imbalanced[1:17])"
   ]
  },
  {
   "cell_type": "code",
   "execution_count": 38,
   "id": "435caa5b",
   "metadata": {},
   "outputs": [
    {
     "data": {
      "text/plain": [
       "array([207, 245], dtype=int64)"
      ]
     },
     "execution_count": 38,
     "metadata": {},
     "output_type": "execute_result"
    }
   ],
   "source": [
    "np.bincount(y_binary_imbalanced) # class 1 is the most frequent 245 observations where status is normal"
   ]
  },
  {
   "cell_type": "code",
   "execution_count": 39,
   "id": "4811fa18",
   "metadata": {},
   "outputs": [],
   "source": [
    "from sklearn.preprocessing import MinMaxScaler\n",
    "X_train, X_test, y_train, y_test = train_test_split(X,y_binary_imbalanced, random_state = 10)\n",
    "\n",
    "scaler = MinMaxScaler()\n",
    "X_train = scaler.fit_transform(X_train)\n",
    "X_test = scaler.transform(X_test)"
   ]
  },
  {
   "cell_type": "markdown",
   "id": "4c49a04a",
   "metadata": {},
   "source": [
    "## K-Nearest Neighbor"
   ]
  },
  {
   "cell_type": "code",
   "execution_count": 40,
   "id": "ec598940",
   "metadata": {},
   "outputs": [
    {
     "name": "stdout",
     "output_type": "stream",
     "text": [
      "confusion regression classifier \n",
      " [[13 37]\n",
      " [ 4 59]]\n",
      "              precision    recall  f1-score   support\n",
      "\n",
      "       not 1       0.76      0.26      0.39        50\n",
      "           1       0.61      0.94      0.74        63\n",
      "\n",
      "    accuracy                           0.64       113\n",
      "   macro avg       0.69      0.60      0.57       113\n",
      "weighted avg       0.68      0.64      0.59       113\n",
      "\n"
     ]
    }
   ],
   "source": [
    "knn_clf = KNeighborsClassifier(n_neighbors = 5).fit(X_train,y_train)\n",
    "y_predicted= knn_clf.predict(X_test)\n",
    "confusion = confusion_matrix(y_test, y_predicted)\n",
    "print('confusion regression classifier \\n', confusion)\n",
    "print(classification_report(y_test, y_predicted, target_names=['not 1', '1']))"
   ]
  },
  {
   "cell_type": "markdown",
   "id": "34bd9967",
   "metadata": {},
   "source": [
    "## Logistic Regression"
   ]
  },
  {
   "cell_type": "code",
   "execution_count": 44,
   "id": "95ac24fc",
   "metadata": {},
   "outputs": [
    {
     "name": "stdout",
     "output_type": "stream",
     "text": [
      "confusion regression classifier \n",
      " [[32 18]\n",
      " [15 48]]\n",
      "              precision    recall  f1-score   support\n",
      "\n",
      "       not 1       0.68      0.64      0.66        50\n",
      "           1       0.73      0.76      0.74        63\n",
      "\n",
      "    accuracy                           0.71       113\n",
      "   macro avg       0.70      0.70      0.70       113\n",
      "weighted avg       0.71      0.71      0.71       113\n",
      "\n"
     ]
    },
    {
     "name": "stderr",
     "output_type": "stream",
     "text": [
      "c:\\users\\prassantha\\appdata\\local\\programs\\python\\python39\\lib\\site-packages\\sklearn\\linear_model\\_logistic.py:814: ConvergenceWarning: lbfgs failed to converge (status=1):\n",
      "STOP: TOTAL NO. of ITERATIONS REACHED LIMIT.\n",
      "\n",
      "Increase the number of iterations (max_iter) or scale the data as shown in:\n",
      "    https://scikit-learn.org/stable/modules/preprocessing.html\n",
      "Please also refer to the documentation for alternative solver options:\n",
      "    https://scikit-learn.org/stable/modules/linear_model.html#logistic-regression\n",
      "  n_iter_i = _check_optimize_result(\n"
     ]
    }
   ],
   "source": [
    "log_clf = LogisticRegression(penalty='l2',random_state=10).fit(X_train,y_train)\n",
    "y_predicted= log_clf.predict(X_test)\n",
    "confusion = confusion_matrix(y_test, y_predicted)\n",
    "print('confusion regression classifier \\n', confusion)\n",
    "print(classification_report(y_test, y_predicted, target_names=['not 1', '1']))"
   ]
  },
  {
   "cell_type": "markdown",
   "id": "4a19ca74",
   "metadata": {},
   "source": [
    "## Linear SVC"
   ]
  },
  {
   "cell_type": "code",
   "execution_count": 45,
   "id": "98b36649",
   "metadata": {},
   "outputs": [
    {
     "name": "stdout",
     "output_type": "stream",
     "text": [
      "confusion regression classifier \n",
      " [[32 18]\n",
      " [15 48]]\n",
      "              precision    recall  f1-score   support\n",
      "\n",
      "       not 1       0.68      0.64      0.66        50\n",
      "           1       0.73      0.76      0.74        63\n",
      "\n",
      "    accuracy                           0.71       113\n",
      "   macro avg       0.70      0.70      0.70       113\n",
      "weighted avg       0.71      0.71      0.71       113\n",
      "\n"
     ]
    }
   ],
   "source": [
    "svm_clf = LinearSVC(C=0.1,random_state=10).fit(X_train,y_train)\n",
    "y_predicted= svm_clf.predict(X_test)\n",
    "confusion = confusion_matrix(y_test, y_predicted)\n",
    "print('confusion regression classifier \\n', confusion)\n",
    "print(classification_report(y_test, y_predicted, target_names=['not 1', '1']))"
   ]
  },
  {
   "cell_type": "markdown",
   "id": "ad14d015",
   "metadata": {},
   "source": [
    "## Kernelized SVC"
   ]
  },
  {
   "cell_type": "code",
   "execution_count": 46,
   "id": "56de8faf",
   "metadata": {},
   "outputs": [
    {
     "name": "stdout",
     "output_type": "stream",
     "text": [
      "confusion regression classifier \n",
      " [[32 18]\n",
      " [11 52]]\n",
      "              precision    recall  f1-score   support\n",
      "\n",
      "       not 1       0.74      0.64      0.69        50\n",
      "           1       0.74      0.83      0.78        63\n",
      "\n",
      "    accuracy                           0.74       113\n",
      "   macro avg       0.74      0.73      0.74       113\n",
      "weighted avg       0.74      0.74      0.74       113\n",
      "\n"
     ]
    }
   ],
   "source": [
    "rbf_clf= SVC(kernel = 'rbf', C =100, gamma =0.01, random_state=10).fit(X_train,y_train)\n",
    "y_predicted= rbf_clf.predict(X_test)\n",
    "confusion = confusion_matrix(y_test, y_predicted)\n",
    "print('confusion regression classifier \\n', confusion)\n",
    "print(classification_report(y_test, y_predicted, target_names=['not 1', '1']))"
   ]
  },
  {
   "cell_type": "markdown",
   "id": "fbada073",
   "metadata": {},
   "source": [
    "## Decision Tree"
   ]
  },
  {
   "cell_type": "code",
   "execution_count": 47,
   "id": "0ff703e2",
   "metadata": {},
   "outputs": [
    {
     "name": "stdout",
     "output_type": "stream",
     "text": [
      "confusion regression classifier \n",
      " [[33 17]\n",
      " [12 51]]\n",
      "              precision    recall  f1-score   support\n",
      "\n",
      "       not 1       0.73      0.66      0.69        50\n",
      "           1       0.75      0.81      0.78        63\n",
      "\n",
      "    accuracy                           0.74       113\n",
      "   macro avg       0.74      0.73      0.74       113\n",
      "weighted avg       0.74      0.74      0.74       113\n",
      "\n"
     ]
    }
   ],
   "source": [
    "dtc_clf= dtc(max_depth=8, random_state=10).fit(X_train,y_train)\n",
    "y_predicted= dtc_clf.predict(X_test)\n",
    "confusion = confusion_matrix(y_test, y_predicted)\n",
    "print('confusion regression classifier \\n', confusion)\n",
    "print(classification_report(y_test, y_predicted, target_names=['not 1', '1']))"
   ]
  },
  {
   "cell_type": "markdown",
   "id": "94959451",
   "metadata": {},
   "source": [
    "## Random Forest"
   ]
  },
  {
   "cell_type": "code",
   "execution_count": 48,
   "id": "f8eba3e0",
   "metadata": {},
   "outputs": [
    {
     "name": "stdout",
     "output_type": "stream",
     "text": [
      "confusion regression classifier \n",
      " [[38 12]\n",
      " [11 52]]\n",
      "              precision    recall  f1-score   support\n",
      "\n",
      "       not 1       0.78      0.76      0.77        50\n",
      "           1       0.81      0.83      0.82        63\n",
      "\n",
      "    accuracy                           0.80       113\n",
      "   macro avg       0.79      0.79      0.79       113\n",
      "weighted avg       0.80      0.80      0.80       113\n",
      "\n"
     ]
    }
   ],
   "source": [
    "rfc_clf = rfc(max_features= 279, random_state=10).fit(X_train,y_train)\n",
    "y_predicted= rfc_clf.predict(X_test)\n",
    "confusion = confusion_matrix(y_test, y_predicted)\n",
    "print('confusion regression classifier \\n', confusion)\n",
    "print(classification_report(y_test, y_predicted, target_names=['not 1', '1']))"
   ]
  },
  {
   "cell_type": "markdown",
   "id": "cbc7acd5",
   "metadata": {},
   "source": [
    "## Hard Voting Classifier"
   ]
  },
  {
   "cell_type": "code",
   "execution_count": 50,
   "id": "fb649742",
   "metadata": {},
   "outputs": [
    {
     "name": "stderr",
     "output_type": "stream",
     "text": [
      "c:\\users\\prassantha\\appdata\\local\\programs\\python\\python39\\lib\\site-packages\\sklearn\\linear_model\\_logistic.py:814: ConvergenceWarning: lbfgs failed to converge (status=1):\n",
      "STOP: TOTAL NO. of ITERATIONS REACHED LIMIT.\n",
      "\n",
      "Increase the number of iterations (max_iter) or scale the data as shown in:\n",
      "    https://scikit-learn.org/stable/modules/preprocessing.html\n",
      "Please also refer to the documentation for alternative solver options:\n",
      "    https://scikit-learn.org/stable/modules/linear_model.html#logistic-regression\n",
      "  n_iter_i = _check_optimize_result(\n"
     ]
    },
    {
     "name": "stdout",
     "output_type": "stream",
     "text": [
      "confusion regression classifier \n",
      " [[34 16]\n",
      " [13 50]]\n",
      "              precision    recall  f1-score   support\n",
      "\n",
      "       not 1       0.72      0.68      0.70        50\n",
      "           1       0.76      0.79      0.78        63\n",
      "\n",
      "    accuracy                           0.74       113\n",
      "   macro avg       0.74      0.74      0.74       113\n",
      "weighted avg       0.74      0.74      0.74       113\n",
      "\n"
     ]
    }
   ],
   "source": [
    "knn_clf= KNeighborsClassifier(n_neighbors = 5)\n",
    "log_clf = LogisticRegression(penalty='l2',random_state=10)\n",
    "svm_clf = LinearSVC(C=0.1,random_state=10)\n",
    "rbf_clf= SVC(kernel = 'rbf', C =100, gamma =0.01, random_state=10)\n",
    "dtc_clf= dtc(max_depth=8, random_state=10)\n",
    "rfc_clf = rfc(max_features= 279, random_state=10)\n",
    "\n",
    "voting_clf = VotingClassifier(estimators=[('knn',knn_clf),('lr', log_clf), ('svc', svm_clf),\n",
    "                                          ('rbf',rbf_clf),('dtc',dtc_clf),('rfc', rfc_clf)], voting='hard')\n",
    "voting_clf.fit(X_train, y_train)\n",
    "y_predicted= voting_clf.predict(X_test)\n",
    "confusion = confusion_matrix(y_test, y_predicted)\n",
    "print('confusion regression classifier \\n', confusion)\n",
    "print(classification_report(y_test, y_predicted, target_names=['not 1', '1']))"
   ]
  },
  {
   "cell_type": "markdown",
   "id": "9ecad729",
   "metadata": {},
   "source": [
    "### THE END"
   ]
  }
 ],
 "metadata": {
  "kernelspec": {
   "display_name": "Python 3 (ipykernel)",
   "language": "python",
   "name": "python3"
  },
  "language_info": {
   "codemirror_mode": {
    "name": "ipython",
    "version": 3
   },
   "file_extension": ".py",
   "mimetype": "text/x-python",
   "name": "python",
   "nbconvert_exporter": "python",
   "pygments_lexer": "ipython3",
   "version": "3.9.5"
  }
 },
 "nbformat": 4,
 "nbformat_minor": 5
}
